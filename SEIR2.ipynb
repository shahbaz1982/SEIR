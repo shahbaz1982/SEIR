{
  "nbformat": 4,
  "nbformat_minor": 0,
  "metadata": {
    "colab": {
      "provenance": [],
      "authorship_tag": "ABX9TyP1p7M/dKGhOcNTV3GEoTPP",
      "include_colab_link": true
    },
    "kernelspec": {
      "name": "python3",
      "display_name": "Python 3"
    },
    "language_info": {
      "name": "python"
    }
  },
  "cells": [
    {
      "cell_type": "markdown",
      "metadata": {
        "id": "view-in-github",
        "colab_type": "text"
      },
      "source": [
        "<a href=\"https://colab.research.google.com/github/shahbaz1982/SEIR/blob/main/SEIR2.ipynb\" target=\"_parent\"><img src=\"https://colab.research.google.com/assets/colab-badge.svg\" alt=\"Open In Colab\"/></a>"
      ]
    },
    {
      "cell_type": "code",
      "execution_count": null,
      "metadata": {
        "id": "yZLMbseElgLp"
      },
      "outputs": [],
      "source": [
        "import numpy as np\n",
        "import matplotlib.pyplot as plt\n",
        "\n",
        "# Initial conditions\n",
        "S0 = 0.8\n",
        "E0 =  0.02\n",
        "I0 = 0.07\n",
        "R0 = 0.01\n",
        "# Parameters\n",
        "A = 0.0904008\n",
        "beta = 0.9\n",
        "sigma = 0.25\n",
        "mu = 0.07\n",
        "alpha = 0.07\n",
        "gamma = 0.07\n",
        "\n",
        "# Time parameters\n",
        "t0 = 0\n",
        "tf = 100  # Final time\n",
        "dt = 0.5  # Time step\n",
        "N = int((tf - t0) / dt)  # Number of steps\n",
        "\n",
        "# Initialize solution arrays\n",
        "t = np.linspace(t0, tf, N + 1)\n",
        "S_1 = np.zeros(N + 1)\n",
        "E_1 = np.zeros(N + 1)\n",
        "I_1 = np.zeros(N + 1)\n",
        "R_1 = np.zeros(N + 1)\n",
        "\n",
        "# Initial values\n",
        "S_1[0] = S0\n",
        "E_1[0] = E0\n",
        "I_1[0] = I0\n",
        "R_1[0] = R0\n",
        "\n",
        "# Define the system of equations\n",
        "def f(S, E, I, R):\n",
        "   dS = A -  mu * S - beta * S * I\n",
        "   dE = beta * S * I - ( sigma + mu) * E\n",
        "   dI = sigma * E - (alpha + mu + gamma) * I\n",
        "   dR = gamma * I - mu * R\n",
        "   return np.array([dS, dE, dI, dR])\n",
        "\n",
        "# RK4 Method\n",
        "for i in range(N):\n",
        "    Si, Ei, Ii, Ri = S_1[i], E_1[i], I_1[i], R_1[i]\n",
        "\n",
        "    k1 = dt * f(Si, Ei, Ii, Ri)\n",
        "    k2 = dt * f(Si + k1[0] / 2, Ei + k1[1] / 2, Ii + k1[2] / 2, Ri + k1[3] / 2)\n",
        "    k3 = dt * f(Si + k2[0] / 2, Ei + k2[1] / 2, Ii + k2[2] / 2, Ri + k2[3] / 2)\n",
        "    k4 = dt * f(Si + k3[0], Ei + k3[1], Ii + k3[2], Ri + k3[3])\n",
        "\n",
        "    S_1[i + 1] = Si + (k1[0] + 2 * k2[0] + 2 * k3[0] + k4[0]) / 6\n",
        "    E_1[i + 1] = Ei + (k1[1] + 2 * k2[1] + 2 * k3[1] + k4[1]) / 6\n",
        "    I_1[i + 1] = Ii + (k1[2] + 2 * k2[2] + 2 * k3[2] + k4[2]) / 6\n",
        "    R_1[i + 1] = Ri + (k1[3] + 2 * k2[3] + 2 * k3[3] + k4[3]) / 6\n",
        "\n",
        "# Plot all the data in one figure\n",
        "plt.figure(figsize=(10, 6))  # Create figure with specified size\n",
        "\n",
        "# Plot S(t) (Susceptible)\n",
        "plt.plot(t, S_1, label=\"S(t)\", color='blue')\n",
        "\n",
        "# Plot E(t) (Exposed)\n",
        "plt.plot(t, E_1, label=\"E(t)\", color='brown')\n",
        "\n",
        "# Plot I(t) (Infected)\n",
        "plt.plot(t, I_1, label=\"I(t)\", color='orange')\n",
        "\n",
        "# Plot R(t) (Recovered)\n",
        "plt.plot(t, R_1 , label=\"R(t)\", color='green')\n",
        "\n",
        "# Add labels and title\n",
        "plt.xlabel(\"Time (Days)\")\n",
        "plt.ylabel(\"Population\")\n",
        "plt.title(\"SEIR Model By PINN\")\n",
        "\n",
        "plt.tight_layout()\n",
        "plt.show()\n",
        "\n",
        "print(\"S:\", S_1)\n",
        "print(\"E:\", E_1)\n",
        "print(\"I:\", I_1)\n",
        "print(\"R:\", R_1)"
      ]
    }
  ]
}